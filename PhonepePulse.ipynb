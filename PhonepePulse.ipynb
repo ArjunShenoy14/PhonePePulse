{
  "nbformat": 4,
  "nbformat_minor": 0,
  "metadata": {
    "colab": {
      "provenance": [],
      "authorship_tag": "ABX9TyNKqayNtMhcZ8HC95GrRNm8",
      "include_colab_link": true
    },
    "kernelspec": {
      "name": "python3",
      "display_name": "Python 3"
    },
    "language_info": {
      "name": "python"
    }
  },
  "cells": [
    {
      "cell_type": "markdown",
      "metadata": {
        "id": "view-in-github",
        "colab_type": "text"
      },
      "source": [
        "<a href=\"https://colab.research.google.com/github/ArjunShenoy14/PhonePePulse/blob/main/PhonepePulse.ipynb\" target=\"_parent\"><img src=\"https://colab.research.google.com/assets/colab-badge.svg\" alt=\"Open In Colab\"/></a>"
      ]
    },
    {
      "cell_type": "code",
      "source": [
        "!git clone https://github.com/PhonePe/pulse.git"
      ],
      "metadata": {
        "id": "e1EREwQM4dix"
      },
      "execution_count": null,
      "outputs": []
    },
    {
      "cell_type": "code",
      "source": [
        "!pip install streamlit"
      ],
      "metadata": {
        "id": "QrAUR6fTsJPe"
      },
      "execution_count": null,
      "outputs": []
    },
    {
      "cell_type": "code",
      "source": [
        "#reuquired packages\n",
        "import pandas as pd\n",
        "import sqlite3\n",
        "import json\n",
        "import os"
      ],
      "metadata": {
        "id": "cW4tiWAndLmo"
      },
      "execution_count": 52,
      "outputs": []
    },
    {
      "cell_type": "code",
      "source": [
        "%%writefile dataret.py\n",
        "#reuquired packages\n",
        "import pandas as pd\n",
        "import sqlite3\n",
        "import json\n",
        "import os\n",
        "\n",
        "#assign path of the states folder to a variable\n",
        "\n",
        "#data/aggregated/transaction\n",
        "path=\"/content/pulse/data/aggregated/transaction/country/india/state/\"\n",
        "Agg_state_list=os.listdir(path)\n",
        "#returns list of folder name(states) \n",
        "Agg_state_list\n",
        "#state wise data, funtion for converting the json files to dataframes\n",
        "stateaggr={'State':[], 'Year':[],'quarter':[],'Transacion_type':[], 'Transacion_count':[], 'Transacion_amount':[]}\n",
        "for i in Agg_state_list:\n",
        "    p_i=path+i+\"/\"\n",
        "    Agg_yr=os.listdir(p_i)    \n",
        "    for j in Agg_yr:\n",
        "        p_j=p_i+j+\"/\"\n",
        "        Agg_yr_list=os.listdir(p_j)        \n",
        "        for k in Agg_yr_list:\n",
        "            p_k=p_j+k\n",
        "            Data=open(p_k,'r')\n",
        "            D=json.load(Data)\n",
        "            for z in D['data']['transactionData']:\n",
        "              Name=z['name']\n",
        "              count=z['paymentInstruments'][0]['count']\n",
        "              amount=z['paymentInstruments'][0]['amount']\n",
        "              stateaggr['Transacion_type'].append(Name)\n",
        "              stateaggr['Transacion_count'].append(count)\n",
        "              stateaggr['Transacion_amount'].append(amount)\n",
        "              stateaggr['State'].append(i)\n",
        "              stateaggr['Year'].append(j)\n",
        "              stateaggr['quarter'].append(int(k.strip('.json')))\n",
        "#Succesfully created a dataframe\n",
        "#display(pd.DataFrame(stateaggr))\n",
        "\n",
        "#data/aggregated/user\n",
        "path_user=\"/content/pulse/data/aggregated/user/country/india/state/\"\n",
        "Agg_urstate_list=os.listdir(path_user)\n",
        "aggr_user={'state':[],'year':[],'quarter':[], 'brand':[], 'count':[],'percentage':[]}\n",
        "\n",
        "for i in Agg_urstate_list:\n",
        "    pi=path_user+i+\"/\"\n",
        "    Agg_yr=os.listdir(pi)    \n",
        "    for j in Agg_yr:\n",
        "        pj=pi+j+\"/\"\n",
        "        Agg_yr_list=os.listdir(pj)        \n",
        "        for k in Agg_yr_list:\n",
        "            pk=pj+k\n",
        "            Data_usr=open(pk,'r')\n",
        "            Dusr=json.load(Data_usr)\n",
        "            d= Dusr[\"data\"][\"usersByDevice\"]\n",
        "            res = []\n",
        "            if d is not None:\n",
        "              for z in d:\n",
        "                brand=z[\"brand\"]\n",
        "                count=z[\"count\"]\n",
        "                per=z[\"percentage\"]\n",
        "                aggr_user['brand'].append(brand)\n",
        "                aggr_user['count'].append(count)\n",
        "                aggr_user['percentage'].append(per)\n",
        "                aggr_user['state'].append(i)\n",
        "                aggr_user['year'].append(j)\n",
        "                aggr_user['quarter'].append(int(k.strip('.json')))\n",
        "#display(pd.DataFrame(aggr_user))\n",
        "\n",
        "#data/map/transaction\n",
        "path_mapstate=\"/content/pulse/data/map/transaction/hover/country/india/state/\"\n",
        "map_state_list=os.listdir(path_mapstate)\n",
        "map_state={'State':[], 'Year':[],'quarter':[],'district':[], 'Transacion_count':[], 'Transacion_amount':[]}\n",
        "\n",
        "for i in map_state_list:\n",
        "    p_i=path_mapstate+i+\"/\"\n",
        "    map_yr=os.listdir(p_i)    \n",
        "    for j in map_yr:\n",
        "        p_j=p_i+j+\"/\"\n",
        "        map_yr_list=os.listdir(p_j)        \n",
        "        for k in map_yr_list:\n",
        "            p_k=p_j+k\n",
        "            Data=open(p_k,'r')\n",
        "            D=json.load(Data)\n",
        "            for z in D['data']['hoverDataList']:\n",
        "              Name=z['name']\n",
        "              count=z['metric'][0]['count']\n",
        "              amount=z['metric'][0]['amount']\n",
        "              map_state['district'].append(Name)\n",
        "              map_state['Transacion_count'].append(count)\n",
        "              map_state['Transacion_amount'].append(amount)\n",
        "              map_state['State'].append(i)\n",
        "              map_state['Year'].append(j)\n",
        "              map_state['quarter'].append(int(k.strip('.json')))\n",
        "#display(pd.DataFrame(map_state))\n",
        "\n",
        "#data/map/user\n",
        "path_mapuser=\"/content/pulse/data/map/user/hover/country/india/state/\"\n",
        "map_userstate_list=os.listdir(path_mapuser)\n",
        "map_user={'State':[], 'Year':[],'quarter':[],'district':[], 'registeredUsers':[], 'appOpens':[]}\n",
        "\n",
        "for i in map_userstate_list:\n",
        "    p_i=path_mapuser+i+\"/\"\n",
        "    map_yr=os.listdir(p_i)    \n",
        "    for j in map_yr:\n",
        "        p_j=p_i+j+\"/\"\n",
        "        map_yr_list=os.listdir(p_j)        \n",
        "        for k in map_yr_list:\n",
        "            p_k=p_j+k\n",
        "            Data=open(p_k,'r')\n",
        "            D=json.load(Data)\n",
        "            d=D['data']['hoverData']\n",
        "            for dis, val in d.items():\n",
        "              map_user[\"district\"].append(dis)\n",
        "              map_user[\"registeredUsers\"].append(val[\"registeredUsers\"])\n",
        "              map_user[\"appOpens\"].append(val[\"appOpens\"])\n",
        "              map_user[\"State\"].append(i)\n",
        "              map_user[\"Year\"].append(j)\n",
        "              map_user[\"quarter\"].append(int(k.strip('.json')))\n",
        "dfgeoloc=pd.DataFrame(map_user)\n",
        "\n",
        "#data/top/transaction\n",
        "path_topstate=\"/content/pulse/data/top/transaction/country/india/state/\"\n",
        "map_topstate_list=os.listdir(path_topstate)\n",
        "top_state={'State':[], 'Year':[],'quarter':[],'District/State':[], 'Transacion_count':[], 'Transacion_amount':[]}\n",
        "\n",
        "for i in map_topstate_list:\n",
        "    p_i=path_topstate+i+\"/\"\n",
        "    top_yr=os.listdir(p_i)    \n",
        "    for j in top_yr:\n",
        "        p_j=p_i+j+\"/\"\n",
        "        top_yr_list=os.listdir(p_j)        \n",
        "        for k in top_yr_list:\n",
        "            p_k=p_j+k\n",
        "            Data=open(p_k,'r')\n",
        "            D=json.load(Data)\n",
        "            d=D[\"data\"][\"districts\"]\n",
        "            for x in d:\n",
        "              top_state[\"Transacion_count\"].append(x[\"metric\"][\"count\"]) \n",
        "              top_state[\"Transacion_amount\"].append(x[\"metric\"][\"amount\"])\n",
        "              top_state[\"District/State\"].append(x[\"entityName\"])\n",
        "              top_state[\"State\"].append(i)\n",
        "              top_state[\"Year\"].append(j)\n",
        "              top_state[\"quarter\"].append(int(k.strip('.json')))\n",
        "#display(pd.DataFrame(top_state))\n",
        "\n",
        "#data/top/user\n",
        "path_topuser=\"/content/pulse/data/top/user/country/india/state/\"\n",
        "map_topusrstate_list=os.listdir(path_topuser)\n",
        "top_user={'State':[], 'Year':[],'quarter':[],'District/State':[], 'registeredUsers':[]}\n",
        "\n",
        "for i in map_topusrstate_list:\n",
        "    p_i=path_topuser+i+\"/\"\n",
        "    top_usryr=os.listdir(p_i)    \n",
        "    for j in top_usryr:\n",
        "        p_j=p_i+j+\"/\"\n",
        "        top_usryr_list=os.listdir(p_j)        \n",
        "        for k in top_usryr_list:\n",
        "            p_k=p_j+k\n",
        "            Data=open(p_k,'r')\n",
        "            D=json.load(Data)\n",
        "            d=D[\"data\"][\"districts\"]\n",
        "            for x in d:\n",
        "              top_user['District/State'].append(x['name']) \n",
        "              top_user['registeredUsers'].append(x['registeredUsers'])\n",
        "              top_user[\"State\"].append(i)\n",
        "              top_user[\"Year\"].append(j)\n",
        "              top_user[\"quarter\"].append(int(k.strip('.json')))\n",
        "#display(pd.DataFrame(top_user))\n",
        "\n",
        "#SQLlite connection\n",
        "conn = sqlite3.connect('pulse.db')\n",
        "c = conn.cursor()\n",
        "print(\"Opened database successfully\");\n",
        "\n",
        "#create a table in the database\n",
        "c.execute('''CREATE TABLE IF NOT EXISTS Agg_State(\n",
        "            State TEXT,\n",
        "            Year TEXT,\n",
        "            Quarter TEXT,\n",
        "            Transacion_type TEXT,\n",
        "            Transacion_count TEXT,\n",
        "            Transacion_amount TEXT\n",
        "            )''')\n",
        "c.execute('''CREATE TABLE IF NOT EXISTS Agg_usrState(\n",
        "            State TEXT,\n",
        "            Year TEXT,\n",
        "            Quarter TEXT,\n",
        "            Brand TEXT,\n",
        "            Count TEXT,\n",
        "            Percentage TEXT\n",
        "            )''')\n",
        "c.execute('''CREATE TABLE IF NOT EXISTS Map_State(\n",
        "            State TEXT,\n",
        "            Year TEXT,\n",
        "            Quarter TEXT,\n",
        "            District TEXT,\n",
        "            Transacion_count TEXT,\n",
        "            Transacion_amount TEXT\n",
        "            )''')\n",
        "c.execute('''CREATE TABLE IF NOT EXISTS Map_usrState(\n",
        "            State TEXT,\n",
        "            Year TEXT,\n",
        "            Quarter TEXT,\n",
        "            District TEXT,\n",
        "            RegisteredUsers TEXT,\n",
        "            AppOpens TEXT\n",
        "            )''')\n",
        "c.execute('''CREATE TABLE IF NOT EXISTS Top_State(\n",
        "            State TEXT,\n",
        "            Year TEXT,\n",
        "            Quarter TEXT,\n",
        "            District TEXT,\n",
        "            Transacion_count TEXT,\n",
        "            Transacion_amount TEXT\n",
        "            )''')\n",
        "c.execute('''CREATE TABLE IF NOT EXISTS Top_usrState(\n",
        "            State TEXT,\n",
        "            Year TEXT,\n",
        "            Quarter TEXT,\n",
        "            District TEXT,\n",
        "            RegisteredUsers TEXT\n",
        "            )''')\n",
        "\n",
        "#insert the All data into the table\n",
        "c.executemany('INSERT INTO Agg_State VALUES(?,?,?,?,?,?)', zip(stateaggr['State'], stateaggr['Year'], stateaggr['quarter'], stateaggr['Transacion_type'], stateaggr['Transacion_count'], stateaggr['Transacion_amount']))\n",
        "c.executemany('INSERT INTO Agg_usrState VALUES(?,?,?,?,?,?)', zip(aggr_user['state'], aggr_user['year'], aggr_user['quarter'], aggr_user['brand'], aggr_user['count'], aggr_user['percentage']))\n",
        "c.executemany('INSERT INTO Map_State VALUES(?,?,?,?,?,?)', zip(map_state['State'], map_state['Year'], map_state['quarter'], map_state['district'], map_state['Transacion_count'], map_state['Transacion_amount']))\n",
        "c.executemany('INSERT INTO Map_usrState VALUES(?,?,?,?,?,?)', zip(map_user['State'], map_user['Year'], map_user['quarter'], map_user['district'], map_user['registeredUsers'], map_user['appOpens']))\n",
        "c.executemany('INSERT INTO Top_State VALUES(?,?,?,?,?,?)', zip(top_state['State'], top_state['Year'], top_state['quarter'], top_state['District/State'], top_state['Transacion_count'], top_state['Transacion_amount']))\n",
        "c.executemany('INSERT INTO Top_usrState VALUES(?,?,?,?,?)', zip(top_user['State'], top_user['Year'], top_user['quarter'], top_user['District/State'], top_user['registeredUsers']))\n",
        "\n",
        "\n",
        "#retrieve from the database\n",
        "x=c.execute(\"SELECT * FROM Agg_State\")\n",
        "x=c.fetchall()\n",
        "y=c.execute(\"SELECT * FROM Agg_usrState\")\n",
        "y=c.fetchall()\n",
        "a=c.execute(\"SELECT * FROM Map_State\")\n",
        "a=c.fetchall()\n",
        "b=c.execute(\"SELECT * FROM Map_usrState\")\n",
        "b=c.fetchall()\n",
        "z=c.execute(\"SELECT * FROM Top_State\")\n",
        "z=c.fetchall()\n",
        "e=c.execute(\"SELECT * FROM Top_usrState\")\n",
        "e=c.fetchall()\n",
        "dfaggusr=pd.DataFrame(y,columns=['State','Year','Quarter','brand','count','percentage'])\n",
        "dfaggstate=pd.DataFrame(x,columns=['State','year','quarter','Transacion_type','Transacion_count','Transacion_amount'])\n",
        "dfmapstate=pd.DataFrame(a,columns=['State','Year','Quarter','District','Transacion_count','Transacion_amount'])\n",
        "dfmapuser=pd.DataFrame(b,columns=['State','Year','Quarter','District','registeredUsers','appOpens'])\n",
        "dftopstate=pd.DataFrame(z,columns=['State','Year','Quarter','District','Transacion_count','Transacion_amount'])\n",
        "dftopusr=pd.DataFrame(e,columns=['State','Year','Quarter','District','registeredUsers'])\n",
        "dfmapuserdeo=dfgeoloc\n",
        "#display(dftopusr)"
      ],
      "metadata": {
        "id": "vUw4PQAlDygJ",
        "colab": {
          "base_uri": "https://localhost:8080/"
        },
        "outputId": "83547d0f-abe9-4000-fecc-631a08ff83b7"
      },
      "execution_count": 61,
      "outputs": [
        {
          "output_type": "stream",
          "name": "stdout",
          "text": [
            "Overwriting dataret.py\n"
          ]
        }
      ]
    },
    {
      "cell_type": "code",
      "source": [
        "%%writefile app.py\n",
        "import streamlit as st\n",
        "import plotly.express as px\n",
        "import pandas as pd\n",
        "import numpy as np\n",
        "import os\n",
        "from PIL import Image\n",
        "from dataret import dfaggusr,dfaggstate,dfmapstate,dfmapuser,dftopstate,dftopusr,dfmapuserdeo\n",
        "\n",
        "#cleaning the data\n",
        "def cleanstate(df):\n",
        "  df['State']=df['State'].str.replace('&',' ')    \n",
        "  df['State']=df['State'].str.replace('-',' ')  \n",
        "  df['State']=df['State'].str.title() \n",
        "  return df\n",
        "\n",
        "#importing dataframes \n",
        "df1=cleanstate(dfaggusr)\n",
        "df2=cleanstate(dfaggstate)\n",
        "df3=cleanstate(dfmapstate)\n",
        "df4=cleanstate(dfmapuser)\n",
        "df5=cleanstate(dftopstate)\n",
        "df6=cleanstate(dftopusr)\n",
        "dfgeo=cleanstate(dfmapuserdeo)\n",
        "\n",
        "if 'dfagguser' not in st.session_state:\n",
        "    st.session_state['dfagguser'] = df1\n",
        "if 'dfagstate' not in st.session_state:\n",
        "    st.session_state['dfagstate'] = df2\t\n",
        "if 'dfmapstat' not in st.session_state:\n",
        "    st.session_state['dfmapstat'] = df3\n",
        "if 'dfmapusr' not in st.session_state:\n",
        "    st.session_state['dfmapusr'] = df4\n",
        "if 'dftopstat' not in st.session_state:\n",
        "    st.session_state['dftopstat'] = df5\n",
        "if 'dftopuser' not in st.session_state:\n",
        "    st.session_state['dftopuser'] = df6\t\n",
        "\t\t\n",
        "#st.session_state\n",
        "\n",
        "df7=dfgeo.groupby(\"State\").sum().iloc[ : ,1: ]\n",
        "\n",
        "figgeo = px.choropleth(\n",
        "    df7,\n",
        "    geojson=\"https://gist.githubusercontent.com/jbrobst/56c13bbbf9d97d187fea01ca62ea5112/raw/e388c4cae20aa53cb5090210a42ebb9b765c0a36/india_states.geojson\",\n",
        "    featureidkey='properties.ST_NM',\n",
        "    locations=df7.index,\n",
        "    color= \"registeredUsers\",\n",
        "    color_continuous_scale='Reds',\n",
        "    hover_name = df7.index,\n",
        "    hover_data = df7.columns,\n",
        ")\n",
        "\n",
        "figgeo.update_geos(fitbounds=\"locations\", visible=False)\n",
        "\n",
        "figgeo.update_layout(\n",
        "    title=dict(\n",
        "            text=\"No of RegisteredUsers in each State \",\n",
        "            xanchor='left',\n",
        "            x=0.5,\n",
        "            yref='paper',\n",
        "            yanchor='bottom',\n",
        "            y=1,\n",
        "            pad={'b':10}),\n",
        "            margin={'r':0,'t':30,'l':0,'b':0},\n",
        "            height=550,\n",
        "            width=1000\n",
        "      )\n",
        "\n",
        "\n",
        "#funtion to update year\n",
        "def update_year(value):\n",
        "\tdf_p1=df1\n",
        "\tdf_p2=df2\n",
        "\tdf_p3=df3\n",
        "\tdf_p4=df4\n",
        "\tdf_p5=df5\n",
        "\tdf_p6=df6\n",
        "\tif value == \"All\":\n",
        "\t\tst.session_state['dfagguser'] = df_p1\n",
        "\t\tst.session_state['dfagstate'] = df_p2\t\n",
        "\t\tst.session_state['dfmapstat'] = df_p3\n",
        "\t\tst.session_state['dfmapusr'] = df_p4\n",
        "\t\tst.session_state['dftopstat'] = df_p5\n",
        "\t\tst.session_state['dftopuser'] = df_p6\n",
        "\telse:\n",
        "\t\tst.session_state['dfagguser']=df_p1[df_p1[\"Year\"]==value]\n",
        "\t\tst.session_state['dfagstate']=df_p2[df_p2[\"year\"]==value]\n",
        "\t\tst.session_state['dfmapstat'] =df_p3[df_p3[\"Year\"]==value]\n",
        "\t\tst.session_state['dfmapusr'] =df_p4[df_p4[\"Year\"]==value]\n",
        "\t\tst.session_state['dftopstat'] = df_p5[df_p5[\"Year\"]==value]\n",
        "\t\tst.session_state['dftopuser'] = df_p6[df_p6[\"Year\"]==value]\n",
        "\n",
        "#funtion to update state in figures\n",
        "def update_dashboard(value):\n",
        "\tdfp1=st.session_state['dfagguser']\n",
        "\tdfp2=st.session_state['dfagstate']\n",
        "\tdfp3=st.session_state['dfmapstat']\n",
        "\tdfp4=st.session_state['dfmapusr']\n",
        "\tdfp5=st.session_state['dftopstat']\n",
        "\tdfp6=st.session_state['dftopuser']\n",
        "\n",
        "\tdfstate=dfp1[dfp1[\"State\"]==value]\n",
        "\tdfstate2=dfp2[dfp2[\"State\"]==value]\n",
        "\tdfmap1=dfp3[dfp3['State']==value]\n",
        "\tdfmap2=dfp4[dfp4['State']==value]\n",
        "\tdftop1=dfp5[dfp5['State']==value]\n",
        "\tdftop2=dfp6[dfp6['State']==value]\n",
        "\t#d1=dftop1.groupby(\"District\")['Transacion_count'].mean()\n",
        "\tfig=px.bar(dfstate,x=\"brand\",y=\"count\",title=\"Brand vs User count\")\n",
        "\tfig2=px.area(dfstate2,x=\"Transacion_type\",y=\"Transacion_amount\",title=\"Transacion type vs Transacion amount\")\n",
        "\tfig3=px.bar(dfmap1,x='District',y='Transacion_count',title=\"District vs Transacion_count\")\n",
        "\tfig4=px.area(dfmap2,x=\"District\",y=\"registeredUsers\",title=\"District vs RegisteredUsers\")\n",
        "\tfig5=px.pie(dftop1,names='District',values=\"Transacion_count\",title=\"Transacion_count in each District\")\n",
        "\tfig6=px.pie(dftop2,names='District',values=\"registeredUsers\",title=\"RegisteredUsers in each District\")\n",
        "\n",
        "\tst.plotly_chart(fig)\n",
        "\tst.plotly_chart(fig2)\n",
        "\tst.plotly_chart(fig3)\n",
        "\tst.plotly_chart(fig4)\n",
        "\tst.plotly_chart(fig5)\n",
        "\tst.plotly_chart(fig6)\n",
        "\t\n",
        "#main function\n",
        "def main():\n",
        "\n",
        "\timage = Image.open('/content/phonepe-logo-icon.png')\n",
        "\tcol1, col2, col3 = st.columns(3)\n",
        "\twith col1:\n",
        "\t\tst.write('     ')\n",
        "\twith col2:\n",
        "\t\tst.image(image,width=200)\n",
        "\twith col3:\n",
        "\t\tst.write(' ')\n",
        "\tst.markdown(\"<h1 style='text-align: center; color: blue;'>PhonePe</h1>\", unsafe_allow_html=True)\n",
        "\t\n",
        "\t\n",
        "\tst.plotly_chart(figgeo)\n",
        "\t#st.dataframe(dfgeo)\n",
        "\t#st.dataframe(df7)\n",
        "\n",
        "\n",
        "\toptions2 = df1[\"Year\"].unique()\n",
        "\toptions2=np.append([\"All\"],options2)\n",
        "\tselected_year = st.selectbox('Select a Year:', options2)\n",
        "\tupdate_year(selected_year)\n",
        "\n",
        "\toptions = df1[\"State\"].unique()\n",
        "\tselected_option = st.selectbox('Select a State:', options)\n",
        "\tupdate_dashboard(selected_option)\n",
        "\t#st.dataframe(df2)\n",
        "\n",
        "if __name__ == '__main__':\n",
        "\tmain()"
      ],
      "metadata": {
        "colab": {
          "base_uri": "https://localhost:8080/"
        },
        "id": "oRRKsGpCsg8N",
        "outputId": "4ab3b779-9a52-4279-fb51-cf2a8c618bbf"
      },
      "execution_count": 76,
      "outputs": [
        {
          "output_type": "stream",
          "name": "stdout",
          "text": [
            "Overwriting app.py\n"
          ]
        }
      ]
    },
    {
      "cell_type": "code",
      "source": [
        "!pip install pyngrok==4.1.1"
      ],
      "metadata": {
        "id": "73zOMrYrsMNG",
        "colab": {
          "base_uri": "https://localhost:8080/"
        },
        "outputId": "65cab099-0140-4982-e85c-744389275e97"
      },
      "execution_count": 4,
      "outputs": [
        {
          "output_type": "stream",
          "name": "stdout",
          "text": [
            "Looking in indexes: https://pypi.org/simple, https://us-python.pkg.dev/colab-wheels/public/simple/\n",
            "Requirement already satisfied: pyngrok==4.1.1 in /usr/local/lib/python3.8/dist-packages (4.1.1)\n",
            "Requirement already satisfied: PyYAML in /usr/local/lib/python3.8/dist-packages (from pyngrok==4.1.1) (6.0)\n",
            "Requirement already satisfied: future in /usr/local/lib/python3.8/dist-packages (from pyngrok==4.1.1) (0.16.0)\n"
          ]
        }
      ]
    },
    {
      "cell_type": "code",
      "source": [
        "!ngrok authtoken 2KmLhi9o9rhTfgnwUY03qPNSw2p_3nUjkV6j5CBE73Xz2rWy3"
      ],
      "metadata": {
        "colab": {
          "base_uri": "https://localhost:8080/"
        },
        "id": "-_C4hA3asPk1",
        "outputId": "a796f5c7-93b9-4cac-f2e8-969a43d751b0"
      },
      "execution_count": 31,
      "outputs": [
        {
          "output_type": "stream",
          "name": "stdout",
          "text": [
            "Authtoken saved to configuration file: /root/.ngrok2/ngrok.yml\n"
          ]
        }
      ]
    },
    {
      "cell_type": "code",
      "source": [
        "!streamlit run --server.port 80 app.py &>/dev/null&\n",
        "from pyngrok import ngrok \n",
        "public_url = ngrok.connect(port='80')\n",
        "public_url"
      ],
      "metadata": {
        "colab": {
          "base_uri": "https://localhost:8080/",
          "height": 36
        },
        "id": "CVvtQWg1sR62",
        "outputId": "73bb7d2b-e519-4db2-a646-f5a084ab3a92"
      },
      "execution_count": 77,
      "outputs": [
        {
          "output_type": "execute_result",
          "data": {
            "text/plain": [
              "'http://4cde-34-71-47-178.ngrok.io'"
            ],
            "application/vnd.google.colaboratory.intrinsic+json": {
              "type": "string"
            }
          },
          "metadata": {},
          "execution_count": 77
        }
      ]
    },
    {
      "cell_type": "code",
      "source": [
        "!pgrep streamlit\n",
        "!ps -eaf | grep streamlit\n",
        "ngrok.kill()"
      ],
      "metadata": {
        "colab": {
          "base_uri": "https://localhost:8080/"
        },
        "id": "CsZuTIeMsXYW",
        "outputId": "49190c9f-f05e-46fd-d307-5125e6bbf8ef"
      },
      "execution_count": 75,
      "outputs": [
        {
          "output_type": "stream",
          "name": "stdout",
          "text": [
            "72590\n",
            "root       72590       1  1 09:54 ?        00:00:30 /usr/bin/python3 /usr/local/bin/streamlit run --server.port 80 app.py\n",
            "root       82820   72112  0 10:33 ?        00:00:00 /bin/bash -c ps -eaf | grep streamlit\n"
          ]
        }
      ]
    }
  ]
}